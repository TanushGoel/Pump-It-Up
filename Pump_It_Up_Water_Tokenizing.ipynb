{
  "nbformat": 4,
  "nbformat_minor": 0,
  "metadata": {
    "colab": {
      "name": "Pump It Up Water Tokenizing",
      "provenance": [],
      "include_colab_link": true
    },
    "kernelspec": {
      "name": "python3",
      "display_name": "Python 3"
    }
  },
  "cells": [
    {
      "cell_type": "markdown",
      "metadata": {
        "id": "view-in-github",
        "colab_type": "text"
      },
      "source": [
        "<a href=\"https://colab.research.google.com/github/TanushGoel/Pump-It-Up/blob/master/Pump_It_Up_Water_Tokenizing.ipynb\" target=\"_parent\"><img src=\"https://colab.research.google.com/assets/colab-badge.svg\" alt=\"Open In Colab\"/></a>"
      ]
    },
    {
      "cell_type": "code",
      "metadata": {
        "id": "Gp74gCyWBgb5",
        "colab_type": "code",
        "colab": {}
      },
      "source": [
        "# public_meeting and permit already mapped as 1 and 0"
      ],
      "execution_count": 0,
      "outputs": []
    },
    {
      "cell_type": "code",
      "metadata": {
        "id": "Y2qUgeOT2oeX",
        "colab_type": "code",
        "colab": {}
      },
      "source": [
        "import pandas as pd\n",
        "pd.options.mode.use_inf_as_na = False\n",
        "import numpy as np\n",
        "import matplotlib.pyplot as plt\n",
        "%matplotlib inline"
      ],
      "execution_count": 0,
      "outputs": []
    },
    {
      "cell_type": "code",
      "metadata": {
        "id": "Hz-ASAt76v08",
        "colab_type": "code",
        "colab": {}
      },
      "source": [
        "data = pd.read_csv('PumpItUpAll.csv')\n",
        "target = data.status_group\n",
        "data_id = data.id\n",
        "data.status_group = data.status_group.map({'functional':1, 'non functional':-1, 'functional needs repair':0})\n",
        "data.head(10)"
      ],
      "execution_count": 0,
      "outputs": []
    },
    {
      "cell_type": "code",
      "metadata": {
        "id": "nENoAxpNA1Ys",
        "colab_type": "code",
        "colab": {}
      },
      "source": [
        "data.public_meeting.unique()"
      ],
      "execution_count": 0,
      "outputs": []
    },
    {
      "cell_type": "code",
      "metadata": {
        "id": "JkmUZ2wh_opx",
        "colab_type": "code",
        "colab": {}
      },
      "source": [
        "data.funder = data.funder.factorize()[0]\n",
        "data.installer = data.installer.factorize()[0]\n",
        "data.wpt_name = data.wpt_name.factorize()[0]\n",
        "data.basin = data.basin.factorize()[0]\n",
        "data.subvillage = data.subvillage.factorize()[0]\n",
        "data.region = data.region.factorize()[0]\n",
        "data.lga = data.lga.factorize()[0]\n",
        "data.ward = data.ward.factorize()[0]\n",
        "data.drop('recorded_by', axis=1, inplace=True)\n",
        "data.scheme_management = data.scheme_management.factorize()[0]\n",
        "data.scheme_name = data.scheme_name.factorize()[0]\n",
        "data.extraction_type = data.extraction_type.factorize()[0]\n",
        "data.extraction_type_group = data.extraction_type_group.factorize()[0]\n",
        "data.extraction_type_class = data.extraction_type_class.factorize()[0]\n",
        "data.management = data.management.factorize()[0]\n",
        "data.management_group = data.management_group.factorize()[0]\n",
        "data.payment = data.payment.factorize()[0]\n",
        "data.payment_type = data.payment_type.factorize()[0]\n",
        "data.water_quality = data.water_quality.factorize()[0]\n",
        "data.quality_group = data.quality_group.factorize()[0]\n",
        "data.quantity = data.quantity.factorize()[0]\n",
        "data.quantity_group = data.quantity_group.factorize()[0]\n",
        "data.source = data.source.factorize()[0]\n",
        "data.source_type = data.source_type.factorize()[0]\n",
        "data.source_class = data.source_class.factorize()[0]\n",
        "data.waterpoint_type = data.waterpoint_type.factorize()[0]\n",
        "data.waterpoint_type_group = data.waterpoint_type_group.factorize()[0]\n",
        "data.head(50)"
      ],
      "execution_count": 0,
      "outputs": []
    },
    {
      "cell_type": "code",
      "metadata": {
        "id": "QXT3CpwKAZVP",
        "colab_type": "code",
        "colab": {}
      },
      "source": [
        "data.to_csv('PUMPITUP_Tokenized.csv', index=False)\n",
        "from google.colab import files\n",
        "files.download('PUMPITUP_Tokenized.csv')\n",
        "# Data ready to be cleaned of missing values"
      ],
      "execution_count": 0,
      "outputs": []
    },
    {
      "cell_type": "code",
      "metadata": {
        "id": "4p_mSiM5FR07",
        "colab_type": "code",
        "colab": {}
      },
      "source": [
        ""
      ],
      "execution_count": 0,
      "outputs": []
    }
  ]
}